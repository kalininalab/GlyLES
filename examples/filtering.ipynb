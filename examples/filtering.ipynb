{
 "cells": [
  {
   "cell_type": "markdown",
   "source": [
    "# Filtering\n",
    "\n",
    "In this example, we're going to demonstrate some features of GlyLES to extract information from glycans on both, the monomeric level and the atomic level.\n",
    "\n",
    "## Monomer-level\n",
    "\n",
    "These functions deal with finding monomers and their attached functional groups.\n",
    "\n",
    "### Parse only the Tree\n",
    "\n",
    "In order to work with glycans beyond simple conversion, one can directly work on the atomic structure of glycans. This is possible without parsing the whole glycan into SMILES but just read in the monosaccharide tree by setting `tree_only=True` when instantiating a glycan."
   ],
   "metadata": {
    "collapsed": false,
    "pycharm": {
     "name": "#%% md\n"
    }
   }
  },
  {
   "cell_type": "code",
   "execution_count": 1,
   "outputs": [
    {
     "name": "stdout",
     "output_type": "stream",
     "text": [
      "O1C(O)[C@H](O[C@H]2O[C@H](CO)[C@@H](O)[C@H](O)[C@@H]2O)[C@@H](O)[C@@H](O)[C@H]1CO\n",
      "None\n"
     ]
    }
   ],
   "source": [
    "from glyles import Glycan\n",
    "\n",
    "\n",
    "glycan = Glycan(\"Man(a1-2)Gal\")  # read full glycan\n",
    "print(glycan.glycan_smiles)  # better use glycan.get_smiles(), but good for demonstration\n",
    "\n",
    "glycan = Glycan(\"Man(a1-2)Gal\", tree_only=True)\n",
    "print(glycan.glycan_smiles)"
   ],
   "metadata": {
    "collapsed": false,
    "pycharm": {
     "name": "#%%\n"
    }
   }
  },
  {
   "cell_type": "markdown",
   "source": [
    "### Count substructures\n",
    "\n",
    "Using GlyLES, the user can count how often a certain substructure occurs in a glycan. For this check, only the type of monosaccharide has to match, neither the enantiomeric form nor the configuration (whether it's alpha, beta, or undefined), nor bonds between the monosaccharides, nor any attached functional groups. This is the default configuration of the method. Further, you have to specify that you want to `match_nodes`. Later, we will see, that there are other possibilities.\n",
    "\n",
    "Instead of passing a glycan object to the `count` function, you can also send the IUPAC-condensed string."
   ],
   "metadata": {
    "collapsed": false,
    "pycharm": {
     "name": "#%% md\n"
    }
   }
  },
  {
   "cell_type": "code",
   "execution_count": 2,
   "outputs": [
    {
     "name": "stdout",
     "output_type": "stream",
     "text": [
      "7\n",
      "7\n"
     ]
    }
   ],
   "source": [
    "glycan = Glycan(\"Fuc(a1-2)[GalNAc(a1-3)]Gal(b1-4)GlcNAc(b1-3)[Fuc(a1-2)[GalNAc(a1-3)]Gal(b1-4)GlcNAc(b1-6)]Gal(b1-3)[GlcNAc(a1-4)Gal(b1-4)GlcNAc6S(b1-6)]GalNAc\")\n",
    "sub = Glycan(\"Gal\")\n",
    "\n",
    "print(glycan.count(sub, match_nodes=True))\n",
    "print(glycan.count(\"Gal\", match_nodes=True))"
   ],
   "metadata": {
    "collapsed": false,
    "pycharm": {
     "name": "#%%\n"
    }
   }
  },
  {
   "cell_type": "markdown",
   "source": [
    "This is possible for the root-monomer ..."
   ],
   "metadata": {
    "collapsed": false,
    "pycharm": {
     "name": "#%% md\n"
    }
   }
  },
  {
   "cell_type": "code",
   "execution_count": 3,
   "outputs": [
    {
     "name": "stdout",
     "output_type": "stream",
     "text": [
      "1\n"
     ]
    }
   ],
   "source": [
    "print(glycan.count(\"Gal\", match_root=True))"
   ],
   "metadata": {
    "collapsed": false,
    "pycharm": {
     "name": "#%%\n"
    }
   }
  },
  {
   "cell_type": "markdown",
   "source": [
    "... and the leaves as well."
   ],
   "metadata": {
    "collapsed": false,
    "pycharm": {
     "name": "#%% md\n"
    }
   }
  },
  {
   "cell_type": "code",
   "execution_count": 4,
   "outputs": [
    {
     "name": "stdout",
     "output_type": "stream",
     "text": [
      "2\n"
     ]
    }
   ],
   "source": [
    "print(glycan.count(\"Fuc\", match_leaves=True))"
   ],
   "metadata": {
    "collapsed": false,
    "pycharm": {
     "name": "#%%\n"
    }
   }
  },
  {
   "cell_type": "markdown",
   "source": [
    "#### This can be extended to bigger substructures\n",
    "\n",
    "Finding polymers in root monomers or the leaves of a glycan is not possible."
   ],
   "metadata": {
    "collapsed": false,
    "pycharm": {
     "name": "#%% md\n"
    }
   }
  },
  {
   "cell_type": "code",
   "execution_count": 5,
   "outputs": [
    {
     "name": "stdout",
     "output_type": "stream",
     "text": [
      "3\n"
     ]
    }
   ],
   "source": [
    "print(glycan.count(\"Gal(a1-2)GlcNAc\", match_nodes=True))"
   ],
   "metadata": {
    "collapsed": false,
    "pycharm": {
     "name": "#%%\n"
    }
   }
  },
  {
   "cell_type": "markdown",
   "source": [
    "### Exact substructure matches\n",
    "\n",
    "This can also be done as exact matching, i.e. the matching galactoses have to have the exact same modifications as the query (`match_all_fg`). This includes the enantiomeric form, the configuration (whether it's alpha, beta, or undefined), bonds between the monosaccharides, and any attached functional groups. Similarly, matching of bonds can be requested (`match_edges`). Finally, both matching filters can be combined."
   ],
   "metadata": {
    "collapsed": false,
    "pycharm": {
     "name": "#%% md\n"
    }
   }
  },
  {
   "cell_type": "code",
   "execution_count": 6,
   "outputs": [
    {
     "name": "stdout",
     "output_type": "stream",
     "text": [
      "0\n",
      "2\n",
      "0\n",
      "3\n",
      "0\n",
      "0\n",
      "2\n"
     ]
    }
   ],
   "source": [
    "# Matching monosaccharides exactly\n",
    "print(glycan.count(\"Gal(a1-2)Glc\", match_nodes=True, match_all_fg=True))\n",
    "print(glycan.count(\"Gal(a1-2)GlcNAc\", match_nodes=True, match_all_fg=True))\n",
    "\n",
    "# Matching bonds between monosaccharides exactly\n",
    "print(glycan.count(\"Gal(a1-2)Glc\", match_nodes=True, match_edges=True))\n",
    "print(glycan.count(\"Gal(b1-4)Glc\", match_nodes=True, match_edges=True))\n",
    "\n",
    "# Matching both monosaccharides and their bonds exactly\n",
    "print(glycan.count(\"Gal(a1-2)GlcNAc\", match_nodes=True, match_all_fg=True, match_edges=True))\n",
    "print(glycan.count(\"Gal(b1-4)Glc\", match_nodes=True, match_all_fg=True, match_edges=True))\n",
    "print(glycan.count(\"Gal(b1-4)GlcNAc\", match_nodes=True, match_all_fg=True, match_edges=True))"
   ],
   "metadata": {
    "collapsed": false,
    "pycharm": {
     "name": "#%%\n"
    }
   }
  },
  {
   "cell_type": "markdown",
   "source": [
    "#### Partially matching substructures\n",
    "\n",
    "It is also possible to match only some functional groups (`match_some_fg`). This is an intermediate stage between matching no functional groups and all. Therefore, the query glycan has to contain all functional groups that have to match. If a matching monomer in the glycan has more functional groups, but at least those of the query, then they are considered as a match. This can be combined with matching edges as well."
   ],
   "metadata": {
    "collapsed": false,
    "pycharm": {
     "name": "#%% md\n"
    }
   }
  },
  {
   "cell_type": "code",
   "execution_count": 7,
   "outputs": [
    {
     "name": "stdout",
     "output_type": "stream",
     "text": [
      "3\n"
     ]
    }
   ],
   "source": [
    "print(glycan.count(\"Gal(b1-4)GlcNAc\", match_some_fg=True, match_nodes=True))"
   ],
   "metadata": {
    "collapsed": false,
    "pycharm": {
     "name": "#%%\n"
    }
   }
  },
  {
   "cell_type": "markdown",
   "source": [
    "### Filtering and Ordering Glycans based on Structural Properties\n",
    "\n",
    "Using this, you can filter and sort lists of glycans based on structural properties."
   ],
   "metadata": {
    "collapsed": false,
    "pycharm": {
     "name": "#%% md\n"
    }
   }
  },
  {
   "cell_type": "code",
   "execution_count": 8,
   "outputs": [
    {
     "data": {
      "text/plain": "0"
     },
     "execution_count": 8,
     "metadata": {},
     "output_type": "execute_result"
    }
   ],
   "source": [
    "glycans = [(line.split(\"\\t\")[0], Glycan(line.split(\"\\t\")[0])) for line in open(\"files/pubchem_poly.tsv\", \"r\").readlines()]\n",
    "query = Glycan(\"Tal\")\n",
    "len(list(filter(lambda x: x[1].count(query, match_nodes=True) > 0, glycans)))"
   ],
   "metadata": {
    "collapsed": false,
    "pycharm": {
     "name": "#%%\n"
    }
   }
  },
  {
   "cell_type": "code",
   "execution_count": 9,
   "outputs": [
    {
     "name": "stdout",
     "output_type": "stream",
     "text": [
      "4: Gal(b1-4)GlcNAc(b1-4)[GalNAc(b1-4)GlcNAc(b1-2)]Man(a1-3)[GalNAc(b1-4)GlcNAc(b1-2)[GalNAc(b1-4)GlcNAc(b1-6)]Man(a1-6)]Man(b1-4)GlcNAc(b1-4)[Fuc(a1-6)]GlcNAc\n",
      "3: GalNAc(b1-4)GlcNAc(b1-2)[GalNAc(b1-4)GlcNAc(b1-6)]Man(a1-6)[GalNAc(b1-4)GlcNAc(b1-2)Man(a1-3)]Man(b1-4)GlcNAc(b1-4)[Fuc(a1-6)]GlcNAc\n",
      "3: Gal(b1-4)GlcNAc(b1-2)[GalNAc(b1-4)GlcNAc(b1-6)]Man(a1-6)[GalNAc(b1-4)GlcNAc(b1-2)Man(a1-3)]Man(b1-4)GlcNAc(b1-4)[Fuc(a1-6)]GlcNAc\n",
      "3: Gal(b1-4)GlcNAc(b1-4)[GalNAc(b1-4)GlcNAc(b1-2)]Man(a1-3)[GalNAc(b1-4)GlcNAc(b1-2)Man(a1-6)]Man(b1-4)GlcNAc(b1-4)[Fuc(a1-6)]GlcNAc\n",
      "3: Gal(b1-4)GlcNAc(b1-6)[GalNAc(b1-4)GlcNAc(b1-2)]Man(a1-6)[GalNAc(b1-4)GlcNAc(b1-2)Man(a1-3)]Man(b1-4)GlcNAc(b1-4)[Fuc(a1-6)]GlcNAc\n",
      "3: Gal(a1-3)Gal(b1-4)GlcNAc(b1-2)Man(a1-3)[GalNAc(b1-4)GlcNAc(b1-2)Man(a1-6)]Man(b1-4)GlcNAc(b1-4)[Fuc(a1-6)]GlcNAc\n",
      "3: Fuc(a1-2)[GalNAc(a1-3)]Gal(b1-4)GlcNAc(b1-2)Man(a1-3)[Gal(b1-4)GlcNAc(b1-2)Man(a1-6)]Man(b1-4)GlcNAc(b1-4)GlcNAc\n",
      "3: Fuc(a1-2)[GalNAc(a1-3)]Gal(b1-4)GlcNAc(b1-2)Man(a1-6)[Gal(b1-4)GlcNAc(b1-2)Man(a1-3)]Man(b1-4)GlcNAc(b1-4)GlcNAc\n",
      "3: Gal(a1-3)Gal(b1-4)GlcNAc(b1-2)Man(a1-6)[NeuAc(a2-6)GalNAc(b1-4)GlcNAc(b1-2)Man(a1-3)]Man(b1-4)GlcNAc(b1-4)[Fuc(a1-6)]GlcNAc\n",
      "3: Fuc(a1-2)[GalNAc(a1-3)]Gal(b1-4)GlcNAc(b1-2)Man(a1-6)[NeuAc(a2-3)Gal(b1-4)GlcNAc(b1-2)Man(a1-3)]Man(b1-4)GlcNAc(b1-4)GlcNAc\n"
     ]
    }
   ],
   "source": [
    "query = Glycan(\"Gal\")\n",
    "print(\"\\n\".join([f\"{x[1].count(query, match_nodes=True)}: {x[0]}\" for x in sorted(glycans, key=lambda x: x[1].count(query, match_nodes=True), reverse=True)][:10]))"
   ],
   "metadata": {
    "collapsed": false,
    "pycharm": {
     "name": "#%%\n"
    }
   }
  },
  {
   "cell_type": "markdown",
   "source": [
    "## Atomic Level\n",
    "\n",
    "### Counting functional groups\n",
    "\n",
    "Most functionality shown previously is already possible by using tools like glycowork, glypy, GlycoQL, or others. Now, we will demonstrate functionality working directly on the atomic structure of glycans which is a new feature, not reproducible with glycowork and others.\n",
    "\n",
    "Using GlyLES, one can generate a glycan based on the IUPAC-condensed string and then search for functional groups in it. This can be done either providing the IUPAC abbreviation for a functional group or a SMILES or SMARTS string of the query that is matched to the structure. Here, one has to be careful as the SMILES query `CO` matches to `R1-C-O-C-R2` even though, one might want to match to `C-O-H` groups. Therefore, it might be easier to hand in the SMARTS string `[#6]-[#8]-[#1]` to match more precise.\n",
    "\n",
    "Another note when counting motives: The to match the query `CO` to the structure `R1-C-O-C-R2` There are two options, one with the left carbon and one with the right carbon. In the count-method, we ensure that every atom is present in exactly one match. So matching `CO` to `R1-C-O-C-R2` will have one hit, matching to `R1-C-O-O-C-R2` will have two."
   ],
   "metadata": {
    "collapsed": false,
    "pycharm": {
     "name": "#%% md\n"
    }
   }
  },
  {
   "cell_type": "code",
   "execution_count": 10,
   "outputs": [
    {
     "name": "stdout",
     "output_type": "stream",
     "text": [
      "56\n",
      "31\n",
      "1\n",
      "7\n"
     ]
    }
   ],
   "source": [
    "print(glycan.count_functional_groups(\"CO\"))  # count carboxy groups\n",
    "print(glycan.count_functional_groups(\"[#6]-[#8]-[#1]\"))  # or insert it as SMARTS to get the matches you meant\n",
    "print(glycan.count_functional_groups(\"S\"))  # find the sulfate group\n",
    "print(glycan.count_functional_groups(\"NC(=O)C\"))  # count NAc groups"
   ],
   "metadata": {
    "collapsed": false,
    "pycharm": {
     "name": "#%%\n"
    }
   }
  },
  {
   "cell_type": "markdown",
   "source": [
    "### Counting possible sites for deprotonation\n",
    "\n",
    "With GlyLES, you can also count possible locations of deprotonation. This is possible by either counting the absolute number of possible oxygen atoms that can be deprotonated or the number of functional groups (such as acid-, sulfate-, or phosphate-groups) that can be deprotonized."
   ],
   "metadata": {
    "collapsed": false,
    "pycharm": {
     "name": "#%% md\n"
    }
   }
  },
  {
   "cell_type": "code",
   "execution_count": 11,
   "outputs": [
    {
     "name": "stdout",
     "output_type": "stream",
     "text": [
      "2\n",
      "1\n"
     ]
    }
   ],
   "source": [
    "print(glycan.count_protonation(groups=False))  # count all possible oxygen atoms\n",
    "print(glycan.count_protonation(groups=True))  # count all functional groups that can be deprotonized, no matter how often"
   ],
   "metadata": {
    "collapsed": false,
    "pycharm": {
     "name": "#%%\n"
    }
   }
  }
 ],
 "metadata": {
  "kernelspec": {
   "display_name": "Python 3",
   "language": "python",
   "name": "python3"
  },
  "language_info": {
   "codemirror_mode": {
    "name": "ipython",
    "version": 2
   },
   "file_extension": ".py",
   "mimetype": "text/x-python",
   "name": "python",
   "nbconvert_exporter": "python",
   "pygments_lexer": "ipython2",
   "version": "2.7.6"
  }
 },
 "nbformat": 4,
 "nbformat_minor": 0
}
