{
 "cells": [
  {
   "cell_type": "markdown",
   "metadata": {
    "collapsed": false,
    "jupyter": {
     "outputs_hidden": false
    },
    "pycharm": {
     "name": "#%% md\n"
    }
   },
   "source": [
    "# Conversion\n",
    "\n",
    "## Converting Glycans from IUPAC-condensed to SMILES\n",
    "\n",
    "This is the main purpose this package has been developed for. There are many options on the input to convert glycans and how the output can be stored."
   ]
  },
  {
   "cell_type": "code",
   "execution_count": 1,
   "metadata": {
    "collapsed": false,
    "jupyter": {
     "outputs_hidden": false
    },
    "pycharm": {
     "name": "#%%\n"
    }
   },
   "outputs": [],
   "source": [
    "from glyles import convert, convert_generator"
   ]
  },
  {
   "cell_type": "markdown",
   "metadata": {
    "collapsed": false,
    "jupyter": {
     "outputs_hidden": false
    },
    "pycharm": {
     "name": "#%% md\n"
    }
   },
   "source": [
    "### Input formats\n",
    "\n",
    "We will with go through different input formats. These include single glycans, lists or tuples, files, and generators of glycans. Combinations of those are possible.\n",
    "\n",
    "#### Conversion of a single glycan\n",
    "\n",
    "The output will be a list with one tuple containing the input IUPAC-condensed string and the SMILES string."
   ]
  },
  {
   "cell_type": "code",
   "execution_count": 2,
   "metadata": {
    "collapsed": false,
    "jupyter": {
     "outputs_hidden": false
    },
    "pycharm": {
     "name": "#%%\n"
    }
   },
   "outputs": [
    {
     "data": {
      "text/plain": [
       "[('Gal', 'O1C(O)[C@H](O)[C@@H](O)[C@@H](O)[C@H]1CO')]"
      ]
     },
     "execution_count": 2,
     "metadata": {},
     "output_type": "execute_result"
    }
   ],
   "source": [
    "convert(\"Gal\")"
   ]
  },
  {
   "cell_type": "markdown",
   "metadata": {
    "collapsed": false,
    "jupyter": {
     "outputs_hidden": false
    },
    "pycharm": {
     "name": "#%% md\n"
    }
   },
   "source": [
    "#### Conversion of a list of glycans\n",
    "\n",
    "The output will be a list with as many tuples as structures are given. All tuples will hold the input IUPAC-condensed string and the according SMILES string. This works with tuple-input as well."
   ]
  },
  {
   "cell_type": "code",
   "execution_count": 3,
   "metadata": {
    "collapsed": false,
    "jupyter": {
     "outputs_hidden": false
    },
    "pycharm": {
     "name": "#%%\n"
    }
   },
   "outputs": [
    {
     "data": {
      "text/plain": [
       "[('Gal', 'O1C(O)[C@H](O)[C@@H](O)[C@@H](O)[C@H]1CO'),\n",
       " ('Man', 'O1C(O)[C@@H](O)[C@@H](O)[C@H](O)[C@H]1CO'),\n",
       " ('GalNAc', 'O1C(O)[C@H](NC(C)=O)[C@@H](O)[C@@H](O)[C@H]1CO'),\n",
       " ('Neu5Ac', 'O1[C@@H]([C@H](O)[C@H](O)CO)[C@H](NC(C)=O)[C@@H](O)CC1(O)C(=O)O')]"
      ]
     },
     "execution_count": 3,
     "metadata": {},
     "output_type": "execute_result"
    }
   ],
   "source": [
    "convert(glycan_list=[\"Gal\", \"Man\", \"GalNAc\", \"Neu5Ac\"])"
   ]
  },
  {
   "cell_type": "markdown",
   "metadata": {
    "collapsed": false,
    "jupyter": {
     "outputs_hidden": false
    },
    "pycharm": {
     "name": "#%% md\n"
    }
   },
   "source": [
    "#### Conversion of a file containing glycans\n",
    "\n",
    "Input can also be a file where each file contains one glycan per line."
   ]
  },
  {
   "cell_type": "code",
   "execution_count": 4,
   "metadata": {
    "collapsed": false,
    "jupyter": {
     "outputs_hidden": false
    },
    "pycharm": {
     "name": "#%%\n"
    }
   },
   "outputs": [
    {
     "data": {
      "text/plain": [
       "[('GalNAc', 'O1C(O)[C@H](NC(C)=O)[C@@H](O)[C@@H](O)[C@H]1CO'),\n",
       " ('GlcNAca', 'O1[C@H](O)[C@H](NC(C)=O)[C@@H](O)[C@H](O)[C@H]1CO'),\n",
       " ('GalA', 'O1C(O)[C@H](O)[C@@H](O)[C@@H](O)[C@H]1C(=O)O'),\n",
       " ('GlcA', 'O1C(O)[C@H](O)[C@@H](O)[C@H](O)[C@H]1C(=O)O'),\n",
       " ('GalN', 'O1C(O)[C@H](N)[C@@H](O)[C@@H](O)[C@H]1CO')]"
      ]
     },
     "execution_count": 4,
     "metadata": {},
     "output_type": "execute_result"
    }
   ],
   "source": [
    "convert(glycan_file=\"files/general.txt\")"
   ]
  },
  {
   "cell_type": "markdown",
   "metadata": {
    "collapsed": false,
    "jupyter": {
     "outputs_hidden": false
    },
    "pycharm": {
     "name": "#%% md\n"
    }
   },
   "source": [
    "#### Conversion of a generator of glycans\n",
    "\n",
    "The output will be the same as if the input is a list of glycans."
   ]
  },
  {
   "cell_type": "code",
   "execution_count": 5,
   "metadata": {
    "collapsed": false,
    "jupyter": {
     "outputs_hidden": false
    },
    "pycharm": {
     "name": "#%%\n"
    }
   },
   "outputs": [
    {
     "data": {
      "text/plain": [
       "[('Gal', 'O1C(O)[C@H](O)[C@@H](O)[C@@H](O)[C@H]1CO'),\n",
       " ('Man', 'O1C(O)[C@@H](O)[C@@H](O)[C@H](O)[C@H]1CO'),\n",
       " ('GalNAc', 'O1C(O)[C@H](NC(C)=O)[C@@H](O)[C@@H](O)[C@H]1CO'),\n",
       " ('Neu5Ac', 'O1[C@@H]([C@H](O)[C@H](O)CO)[C@H](NC(C)=O)[C@@H](O)CC1(O)C(=O)O')]"
      ]
     },
     "execution_count": 5,
     "metadata": {},
     "output_type": "execute_result"
    }
   ],
   "source": [
    "def gen():\n",
    "    for glycan in [\"Gal\", \"Man\", \"GalNAc\", \"Neu5Ac\"]:\n",
    "        yield glycan\n",
    "\n",
    "\n",
    "convert(glycan_generator=gen())"
   ]
  },
  {
   "cell_type": "markdown",
   "metadata": {
    "collapsed": false,
    "jupyter": {
     "outputs_hidden": false
    },
    "pycharm": {
     "name": "#%% md\n"
    }
   },
   "source": [
    "### Output formats\n",
    "\n",
    "As shown above, we have different input formats, but also the output can be changed. Aside from the list of tuples already shown above, there are other options. Default is to return a list of tuples with the IUPAC-condensed strings and SMILES strings as seen above.\n",
    "\n",
    "#### Output as a generator\n",
    "\n",
    "As output one can select to have a generator which is especially helpful if the input is also a generator and one wants to parallelize jobs. For this specific output, one has to call the `convert_generator` function. The generator generates tuples of the form as described above."
   ]
  },
  {
   "cell_type": "code",
   "execution_count": 6,
   "metadata": {
    "collapsed": false,
    "jupyter": {
     "outputs_hidden": false
    },
    "pycharm": {
     "name": "#%%\n"
    }
   },
   "outputs": [
    {
     "name": "stdout",
     "output_type": "stream",
     "text": [
      "<class 'generator'>\n",
      "('Gal', 'O1C(O)[C@H](O)[C@@H](O)[C@@H](O)[C@H]1CO')\n",
      "('Man', 'O1C(O)[C@@H](O)[C@@H](O)[C@H](O)[C@H]1CO')\n",
      "('GalNAc', 'O1C(O)[C@H](NC(C)=O)[C@@H](O)[C@@H](O)[C@H]1CO')\n",
      "('Neu5Ac', 'O1[C@@H]([C@H](O)[C@H](O)CO)[C@H](NC(C)=O)[C@@H](O)CC1(O)C(=O)O')\n"
     ]
    }
   ],
   "source": [
    "output = convert_generator(glycan_generator=gen())\n",
    "print(type(output))\n",
    "for g in output:\n",
    "    print(g)"
   ]
  },
  {
   "cell_type": "markdown",
   "metadata": {
    "collapsed": false,
    "jupyter": {
     "outputs_hidden": false
    },
    "pycharm": {
     "name": "#%% md\n"
    }
   },
   "source": [
    "#### Write output to a file\n",
    "\n",
    "One can write the tuples generated into a file. The file will have the CSV format."
   ]
  },
  {
   "cell_type": "code",
   "execution_count": 7,
   "metadata": {
    "collapsed": false,
    "jupyter": {
     "outputs_hidden": false
    },
    "pycharm": {
     "name": "#%%\n"
    }
   },
   "outputs": [],
   "source": [
    "convert(glycan_list=[\"Gal\", \"Man\", \"GalNAc\", \"Neu5Ac\"], output_file=\"files/example.csv\")"
   ]
  },
  {
   "cell_type": "markdown",
   "metadata": {
    "collapsed": false,
    "jupyter": {
     "outputs_hidden": false
    },
    "pycharm": {
     "name": "#%% md\n"
    }
   },
   "source": [
    "#### Write output to stdout\n",
    "\n",
    "If file-output is not selected and returning the list is actively rejected, the output will be printed to the standard output. As with the file-output, the output will have CSV format. If some input cannot be converted, the package rises an error and returns a half-empty tuple."
   ]
  },
  {
   "cell_type": "code",
   "execution_count": 8,
   "metadata": {
    "collapsed": false,
    "jupyter": {
     "outputs_hidden": false
    },
    "pycharm": {
     "name": "#%%\n"
    }
   },
   "outputs": [
    {
     "name": "stderr",
     "output_type": "stream",
     "text": [
      "WARNING:root:No output-file specified, results will be printed on stdout.\n",
      "ERROR:root:A parsing error occurred with Ne{u: <class 'glyles.glycans.utils.ParseError'>\n",
      "Error message: Glycan cannot be parsed:\n",
      "line 1:2 token recognition error at: 'e{'\n"
     ]
    },
    {
     "name": "stdout",
     "output_type": "stream",
     "text": [
      "Gal,O1C(O)[C@H](O)[C@@H](O)[C@@H](O)[C@H]1CO\n",
      "Man,O1C(O)[C@@H](O)[C@@H](O)[C@H](O)[C@H]1CO\n",
      "GalNAc,O1C(O)[C@H](NC(C)=O)[C@@H](O)[C@@H](O)[C@H]1CO\n",
      "Neu5Ac,O1[C@@H]([C@H](O)[C@H](O)CO)[C@H](NC(C)=O)[C@@H](O)CC1(O)C(=O)O\n",
      "Ne{u,\n"
     ]
    }
   ],
   "source": [
    "convert(glycan_list=[\"Gal\", \"Man\", \"GalNAc\", \"Neu5Ac\", \"Ne{u\"], returning=False)"
   ]
  },
  {
   "cell_type": "markdown",
   "metadata": {
    "collapsed": false,
    "jupyter": {
     "outputs_hidden": false
    },
    "pycharm": {
     "name": "#%% md\n"
    }
   },
   "source": [
    "## Verbosity\n",
    "\n",
    "As we see form the code-cell above, the program might print some messages. This can be suppressed on different levels using the built-in python module `logging`."
   ]
  },
  {
   "cell_type": "code",
   "execution_count": 9,
   "metadata": {
    "collapsed": false,
    "jupyter": {
     "outputs_hidden": false
    },
    "pycharm": {
     "name": "#%%\n"
    }
   },
   "outputs": [
    {
     "name": "stderr",
     "output_type": "stream",
     "text": [
      "ERROR:root:A parsing error occurred with Ne{u: <class 'glyles.glycans.utils.ParseError'>\n",
      "Error message: Glycan cannot be parsed:\n",
      "line 1:2 token recognition error at: 'e{'\n"
     ]
    },
    {
     "data": {
      "text/plain": [
       "[('Gal', 'O1C(O)[C@H](O)[C@@H](O)[C@@H](O)[C@H]1CO'),\n",
       " ('Man', 'O1C(O)[C@@H](O)[C@@H](O)[C@H](O)[C@H]1CO'),\n",
       " ('GalNAc', 'O1C(O)[C@H](NC(C)=O)[C@@H](O)[C@@H](O)[C@H]1CO'),\n",
       " ('Neu5Ac', 'O1[C@@H]([C@H](O)[C@H](O)CO)[C@H](NC(C)=O)[C@@H](O)CC1(O)C(=O)O'),\n",
       " ('Ne{u', '')]"
      ]
     },
     "execution_count": 9,
     "metadata": {},
     "output_type": "execute_result"
    }
   ],
   "source": [
    "import logging\n",
    "\n",
    "\n",
    "convert(glycan_list=[\"Gal\", \"Man\", \"GalNAc\", \"Neu5Ac\", \"Ne{u\"], verbose=logging.WARNING)"
   ]
  },
  {
   "cell_type": "markdown",
   "metadata": {
    "collapsed": false,
    "jupyter": {
     "outputs_hidden": false
    },
    "pycharm": {
     "name": "#%% md\n"
    }
   },
   "source": [
    "As pythons built-in logging library does not support for turning off all loggings, we implemented this on our own for the input `verbose=None`."
   ]
  },
  {
   "cell_type": "code",
   "execution_count": 10,
   "metadata": {
    "collapsed": false,
    "jupyter": {
     "outputs_hidden": false
    },
    "pycharm": {
     "name": "#%%\n"
    }
   },
   "outputs": [
    {
     "data": {
      "text/plain": [
       "[('Gal', 'O1C(O)[C@H](O)[C@@H](O)[C@@H](O)[C@H]1CO'),\n",
       " ('Man', 'O1C(O)[C@@H](O)[C@@H](O)[C@H](O)[C@H]1CO'),\n",
       " ('GalNAc', 'O1C(O)[C@H](NC(C)=O)[C@@H](O)[C@@H](O)[C@H]1CO'),\n",
       " ('Neu5Ac', 'O1[C@@H]([C@H](O)[C@H](O)CO)[C@H](NC(C)=O)[C@@H](O)CC1(O)C(=O)O'),\n",
       " ('Ne{u', '')]"
      ]
     },
     "execution_count": 10,
     "metadata": {},
     "output_type": "execute_result"
    }
   ],
   "source": [
    "convert(glycan_list=[\"Gal\", \"Man\", \"GalNAc\", \"Neu5Ac\", \"Ne{u\"], verbose=None)"
   ]
  }
 ],
 "metadata": {
  "kernelspec": {
   "display_name": "Python 3 (ipykernel)",
   "language": "python",
   "name": "python3"
  },
  "language_info": {
   "codemirror_mode": {
    "name": "ipython",
    "version": 3
   },
   "file_extension": ".py",
   "mimetype": "text/x-python",
   "name": "python",
   "nbconvert_exporter": "python",
   "pygments_lexer": "ipython3",
   "version": "3.9.20"
  }
 },
 "nbformat": 4,
 "nbformat_minor": 4
}
